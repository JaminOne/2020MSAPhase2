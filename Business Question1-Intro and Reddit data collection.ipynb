{
  "nbformat": 4,
  "nbformat_minor": 0,
  "metadata": {
    "colab": {
      "name": "Business Question and Reddit data collection.ipynb",
      "provenance": [],
      "collapsed_sections": []
    },
    "kernelspec": {
      "name": "python3",
      "display_name": "Python 3"
    }
  },
  "cells": [
    {
      "cell_type": "markdown",
      "metadata": {
        "id": "0ijUHxKS-wtt",
        "colab_type": "text"
      },
      "source": [
        "# Business Problem\n",
        "The COVID-19 pandemic took our world by storm, and there is no doubt that covid related topic becomes the most popular one in the social media. Stay at home order makes more people to express opinions at social media like Facebook, Twitter and Reddit. \n",
        "\n",
        "In this business problem, I will use Reddit API to get the top100 posts and their comments at COVID-19 subreddit. Sentiment analysis and prediction will be used to build a machine learning pipeline by investigate public opinion on all kinds of text content on Reddit and helping decision makers to make better policies.\n",
        "\n",
        "### Objective\n",
        "*   Successfully build a machine learning pipeline to collect data, analyze  and predict the sentiment.  \n",
        "*   Help decision maker understand importance of using public opinion \n",
        "*   Help decision maker to find possible issue surrouding the COVID\n",
        "\n",
        "\n",
        " "
      ]
    },
    {
      "cell_type": "code",
      "metadata": {
        "id": "w2otx89s3Pfe",
        "colab_type": "code",
        "colab": {
          "base_uri": "https://localhost:8080/",
          "height": 339
        },
        "outputId": "4980a4e2-f8ff-4099-ff1f-a28c41609df1"
      },
      "source": [
        "pip install praw"
      ],
      "execution_count": null,
      "outputs": [
        {
          "output_type": "stream",
          "text": [
            "Collecting praw\n",
            "\u001b[?25l  Downloading https://files.pythonhosted.org/packages/2c/15/4bcc44271afce0316c73cd2ed35f951f1363a07d4d5d5440ae5eb2baad78/praw-7.1.0-py3-none-any.whl (152kB)\n",
            "\r\u001b[K     |██▏                             | 10kB 17.2MB/s eta 0:00:01\r\u001b[K     |████▎                           | 20kB 3.3MB/s eta 0:00:01\r\u001b[K     |██████▌                         | 30kB 4.1MB/s eta 0:00:01\r\u001b[K     |████████▋                       | 40kB 4.4MB/s eta 0:00:01\r\u001b[K     |██████████▊                     | 51kB 3.9MB/s eta 0:00:01\r\u001b[K     |█████████████                   | 61kB 4.3MB/s eta 0:00:01\r\u001b[K     |███████████████                 | 71kB 4.6MB/s eta 0:00:01\r\u001b[K     |█████████████████▎              | 81kB 5.0MB/s eta 0:00:01\r\u001b[K     |███████████████████▍            | 92kB 5.3MB/s eta 0:00:01\r\u001b[K     |█████████████████████▌          | 102kB 5.2MB/s eta 0:00:01\r\u001b[K     |███████████████████████▊        | 112kB 5.2MB/s eta 0:00:01\r\u001b[K     |█████████████████████████▉      | 122kB 5.2MB/s eta 0:00:01\r\u001b[K     |████████████████████████████    | 133kB 5.2MB/s eta 0:00:01\r\u001b[K     |██████████████████████████████▏ | 143kB 5.2MB/s eta 0:00:01\r\u001b[K     |████████████████████████████████| 153kB 5.2MB/s \n",
            "\u001b[?25hCollecting update-checker>=0.17\n",
            "  Downloading https://files.pythonhosted.org/packages/0c/ba/8dd7fa5f0b1c6a8ac62f8f57f7e794160c1f86f31c6d0fb00f582372a3e4/update_checker-0.18.0-py3-none-any.whl\n",
            "Collecting prawcore<2.0,>=1.3.0\n",
            "  Downloading https://files.pythonhosted.org/packages/1d/40/b741437ce4c7b64f928513817b29c0a615efb66ab5e5e01f66fe92d2d95b/prawcore-1.5.0-py3-none-any.whl\n",
            "Collecting websocket-client>=0.54.0\n",
            "\u001b[?25l  Downloading https://files.pythonhosted.org/packages/4c/5f/f61b420143ed1c8dc69f9eaec5ff1ac36109d52c80de49d66e0c36c3dfdf/websocket_client-0.57.0-py2.py3-none-any.whl (200kB)\n",
            "\u001b[K     |████████████████████████████████| 204kB 17.3MB/s \n",
            "\u001b[?25hRequirement already satisfied: requests>=2.3.0 in /usr/local/lib/python3.6/dist-packages (from update-checker>=0.17->praw) (2.23.0)\n",
            "Requirement already satisfied: six in /usr/local/lib/python3.6/dist-packages (from websocket-client>=0.54.0->praw) (1.15.0)\n",
            "Requirement already satisfied: idna<3,>=2.5 in /usr/local/lib/python3.6/dist-packages (from requests>=2.3.0->update-checker>=0.17->praw) (2.10)\n",
            "Requirement already satisfied: chardet<4,>=3.0.2 in /usr/local/lib/python3.6/dist-packages (from requests>=2.3.0->update-checker>=0.17->praw) (3.0.4)\n",
            "Requirement already satisfied: urllib3!=1.25.0,!=1.25.1,<1.26,>=1.21.1 in /usr/local/lib/python3.6/dist-packages (from requests>=2.3.0->update-checker>=0.17->praw) (1.24.3)\n",
            "Requirement already satisfied: certifi>=2017.4.17 in /usr/local/lib/python3.6/dist-packages (from requests>=2.3.0->update-checker>=0.17->praw) (2020.6.20)\n",
            "Installing collected packages: update-checker, prawcore, websocket-client, praw\n",
            "Successfully installed praw-7.1.0 prawcore-1.5.0 update-checker-0.18.0 websocket-client-0.57.0\n"
          ],
          "name": "stdout"
        }
      ]
    },
    {
      "cell_type": "code",
      "metadata": {
        "id": "Vc-qVXbr2-8a",
        "colab_type": "code",
        "colab": {}
      },
      "source": [
        "import datetime\n",
        "\n",
        "import praw\n",
        "import pandas as pd\n",
        "from keys import client_id, client_secret"
      ],
      "execution_count": null,
      "outputs": []
    },
    {
      "cell_type": "markdown",
      "metadata": {
        "id": "G0EB7Pc64LHL",
        "colab_type": "text"
      },
      "source": [
        "## Collecting the posts for our topic\n",
        "Initializing a Reddit Instance"
      ]
    },
    {
      "cell_type": "code",
      "metadata": {
        "id": "NL4GaxHC3H9P",
        "colab_type": "code",
        "colab": {}
      },
      "source": [
        "reddit = praw.Reddit( client_id=client_id,\n",
        "            client_secret=client_secret,\n",
        "            user_agent='android:my_app:v1 (by /u/HardPlayer23)')"
      ],
      "execution_count": null,
      "outputs": []
    },
    {
      "cell_type": "code",
      "metadata": {
        "id": "DnB2Qv275VLf",
        "colab_type": "code",
        "colab": {}
      },
      "source": [
        "covid = reddit.subreddit('COVID19')\n",
        "\n",
        "#Gathering the top 500 posts, with their title, url, body, upvotes, timestamp, and an index that serves as a key between the\n",
        "#posts and the comments we collect later\n",
        "posts = []\n",
        "for index, post in enumerate(covid.top(limit=100)):\n",
        "    posts.append([post.title, \"https://www.reddit.com\" + post.permalink, post.selftext, post.score, post.created_utc, index])\n",
        "\n",
        "#Converting into DataFrame\n",
        "posts = pd.DataFrame(posts, columns=['Title', 'URL', 'Body', 'Upvotes', 'Time', 'Key'])\n",
        "#Changing from utc time to standard timestamp\n",
        "posts.Time = posts.Time.apply(lambda x: pd.to_datetime(datetime.datetime.fromtimestamp(x)))\n",
        "\n",
        "#The first post is a sticky, so we can drop it\n",
        "posts = posts.iloc[1:]"
      ],
      "execution_count": null,
      "outputs": []
    },
    {
      "cell_type": "code",
      "metadata": {
        "id": "luwGurkh6H43",
        "colab_type": "code",
        "colab": {
          "base_uri": "https://localhost:8080/",
          "height": 195
        },
        "outputId": "992327f1-0299-4d08-9004-e6f8571ccd3b"
      },
      "source": [
        "posts.head()"
      ],
      "execution_count": null,
      "outputs": [
        {
          "output_type": "execute_result",
          "data": {
            "text/html": [
              "<div>\n",
              "<style scoped>\n",
              "    .dataframe tbody tr th:only-of-type {\n",
              "        vertical-align: middle;\n",
              "    }\n",
              "\n",
              "    .dataframe tbody tr th {\n",
              "        vertical-align: top;\n",
              "    }\n",
              "\n",
              "    .dataframe thead th {\n",
              "        text-align: right;\n",
              "    }\n",
              "</style>\n",
              "<table border=\"1\" class=\"dataframe\">\n",
              "  <thead>\n",
              "    <tr style=\"text-align: right;\">\n",
              "      <th></th>\n",
              "      <th>Title</th>\n",
              "      <th>URL</th>\n",
              "      <th>Body</th>\n",
              "      <th>Upvotes</th>\n",
              "      <th>Time</th>\n",
              "      <th>Key</th>\n",
              "    </tr>\n",
              "  </thead>\n",
              "  <tbody>\n",
              "    <tr>\n",
              "      <th>1</th>\n",
              "      <td>Number of people with coronavirus infections m...</td>\n",
              "      <td>https://www.reddit.com/r/COVID19/comments/g2cz...</td>\n",
              "      <td></td>\n",
              "      <td>9387</td>\n",
              "      <td>2020-04-16 11:11:30</td>\n",
              "      <td>1</td>\n",
              "    </tr>\n",
              "    <tr>\n",
              "      <th>2</th>\n",
              "      <td>At least 11% of tested blood donors in Stockho...</td>\n",
              "      <td>https://www.reddit.com/r/COVID19/comments/g4zn...</td>\n",
              "      <td></td>\n",
              "      <td>8906</td>\n",
              "      <td>2020-04-20 19:43:27</td>\n",
              "      <td>2</td>\n",
              "    </tr>\n",
              "    <tr>\n",
              "      <th>3</th>\n",
              "      <td>Ending coronavirus lockdowns will be a dangero...</td>\n",
              "      <td>https://www.reddit.com/r/COVID19/comments/g1hp...</td>\n",
              "      <td></td>\n",
              "      <td>6920</td>\n",
              "      <td>2020-04-15 00:46:34</td>\n",
              "      <td>3</td>\n",
              "    </tr>\n",
              "    <tr>\n",
              "      <th>4</th>\n",
              "      <td>NYC Health: Only 1.8% of deaths in New York Ci...</td>\n",
              "      <td>https://www.reddit.com/r/COVID19/comments/ftlq...</td>\n",
              "      <td></td>\n",
              "      <td>6738</td>\n",
              "      <td>2020-04-02 12:48:15</td>\n",
              "      <td>4</td>\n",
              "    </tr>\n",
              "    <tr>\n",
              "      <th>5</th>\n",
              "      <td>Not wearing masks to protect against coronavir...</td>\n",
              "      <td>https://www.reddit.com/r/COVID19/comments/fqdq...</td>\n",
              "      <td></td>\n",
              "      <td>6305</td>\n",
              "      <td>2020-03-28 04:59:10</td>\n",
              "      <td>5</td>\n",
              "    </tr>\n",
              "  </tbody>\n",
              "</table>\n",
              "</div>"
            ],
            "text/plain": [
              "                                               Title  ... Key\n",
              "1  Number of people with coronavirus infections m...  ...   1\n",
              "2  At least 11% of tested blood donors in Stockho...  ...   2\n",
              "3  Ending coronavirus lockdowns will be a dangero...  ...   3\n",
              "4  NYC Health: Only 1.8% of deaths in New York Ci...  ...   4\n",
              "5  Not wearing masks to protect against coronavir...  ...   5\n",
              "\n",
              "[5 rows x 6 columns]"
            ]
          },
          "metadata": {
            "tags": []
          },
          "execution_count": 25
        }
      ]
    },
    {
      "cell_type": "code",
      "metadata": {
        "id": "4TZHSn8e6ObO",
        "colab_type": "code",
        "colab": {
          "base_uri": "https://localhost:8080/",
          "height": 34
        },
        "outputId": "452d38a0-84b3-4da3-c197-6e89fc8c832b"
      },
      "source": [
        "posts.shape"
      ],
      "execution_count": null,
      "outputs": [
        {
          "output_type": "execute_result",
          "data": {
            "text/plain": [
              "(99, 6)"
            ]
          },
          "metadata": {
            "tags": []
          },
          "execution_count": 26
        }
      ]
    },
    {
      "cell_type": "markdown",
      "metadata": {
        "id": "LlsUSlvr6sW3",
        "colab_type": "text"
      },
      "source": [
        "\n",
        "**Collecting the comments for each of our posts**\n",
        "\n",
        "We want to get all the comments for the posts we collected"
      ]
    },
    {
      "cell_type": "code",
      "metadata": {
        "id": "PcTSS0Z-6oTz",
        "colab_type": "code",
        "colab": {}
      },
      "source": [
        "def collect_replies(key, url):\n",
        "    ''' \n",
        "    params pandas series row: each row of the dataframe we built above in the form of a panda series\n",
        "    Returns a pandas DataFrame, where each row represents an individual comment\n",
        "    '''\n",
        "    submission = reddit.submission(url=url)\n",
        "    submission.comments.replace_more(limit=None)\n",
        "    comment_queue = submission.comments[:] \n",
        "\n",
        "    table = {'Reply':[], 'Upvote':[], 'Time':[], 'Key':[]}\n",
        "\n",
        "    while comment_queue:\n",
        "        comment = comment_queue.pop(0)\n",
        "        table['Reply'].append(comment.body)\n",
        "        table['Time'].append(comment.created_utc)\n",
        "        table['Upvote'].append(comment.score)\n",
        "        table['Key'].append(key)\n",
        "        comment_queue.extend(comment.replies)\n",
        "    \n",
        "    return pd.DataFrame.from_dict(table)"
      ],
      "execution_count": null,
      "outputs": []
    },
    {
      "cell_type": "code",
      "metadata": {
        "id": "dPNFsd3R7Irw",
        "colab_type": "code",
        "colab": {}
      },
      "source": [
        "#Let us first generate a list of tupules that contains the key and url for each row - the first value of the tupule is key,\n",
        "#and the second value is url\n",
        "keys = posts.Key.tolist()\n",
        "urls = posts.URL.tolist()\n",
        "tupules = list(zip(keys, urls))\n",
        "\n",
        "#Now we generate our comments dataframe using list comprehensions!\n",
        "comments = pd.concat([collect_replies(x[0], x[1]) for x in tupules])"
      ],
      "execution_count": null,
      "outputs": []
    },
    {
      "cell_type": "code",
      "metadata": {
        "id": "7zebmEMRfSiu",
        "colab_type": "code",
        "colab": {}
      },
      "source": [
        "#Again, converting the timestamp from utc to a standard format\n",
        "comments.Time = comments.Time.apply(lambda x: pd.to_datetime(datetime.datetime.fromtimestamp(x)))"
      ],
      "execution_count": null,
      "outputs": []
    },
    {
      "cell_type": "code",
      "metadata": {
        "id": "XCNzHQP17NbK",
        "colab_type": "code",
        "colab": {
          "base_uri": "https://localhost:8080/",
          "height": 195
        },
        "outputId": "09d3d7dc-049a-4157-9f0c-b2d542120a95"
      },
      "source": [
        "comments.head()"
      ],
      "execution_count": null,
      "outputs": [
        {
          "output_type": "execute_result",
          "data": {
            "text/html": [
              "<div>\n",
              "<style scoped>\n",
              "    .dataframe tbody tr th:only-of-type {\n",
              "        vertical-align: middle;\n",
              "    }\n",
              "\n",
              "    .dataframe tbody tr th {\n",
              "        vertical-align: top;\n",
              "    }\n",
              "\n",
              "    .dataframe thead th {\n",
              "        text-align: right;\n",
              "    }\n",
              "</style>\n",
              "<table border=\"1\" class=\"dataframe\">\n",
              "  <thead>\n",
              "    <tr style=\"text-align: right;\">\n",
              "      <th></th>\n",
              "      <th>Reply</th>\n",
              "      <th>Upvote</th>\n",
              "      <th>Time</th>\n",
              "      <th>Key</th>\n",
              "    </tr>\n",
              "  </thead>\n",
              "  <tbody>\n",
              "    <tr>\n",
              "      <th>0</th>\n",
              "      <td>OP, you may want to flair this as Press Releas...</td>\n",
              "      <td>449</td>\n",
              "      <td>2020-04-16 11:19:00</td>\n",
              "      <td>1</td>\n",
              "    </tr>\n",
              "    <tr>\n",
              "      <th>1</th>\n",
              "      <td>The sampling taken during week 13, included 1...</td>\n",
              "      <td>72</td>\n",
              "      <td>2020-04-16 11:15:11</td>\n",
              "      <td>1</td>\n",
              "    </tr>\n",
              "    <tr>\n",
              "      <th>2</th>\n",
              "      <td>Very curious to see the random sampling result...</td>\n",
              "      <td>57</td>\n",
              "      <td>2020-04-16 11:58:13</td>\n",
              "      <td>1</td>\n",
              "    </tr>\n",
              "    <tr>\n",
              "      <th>3</th>\n",
              "      <td>[removed]</td>\n",
              "      <td>156</td>\n",
              "      <td>2020-04-16 12:27:51</td>\n",
              "      <td>1</td>\n",
              "    </tr>\n",
              "    <tr>\n",
              "      <th>4</th>\n",
              "      <td>If this is true, wouldn't that bring the death...</td>\n",
              "      <td>23</td>\n",
              "      <td>2020-04-16 16:53:09</td>\n",
              "      <td>1</td>\n",
              "    </tr>\n",
              "  </tbody>\n",
              "</table>\n",
              "</div>"
            ],
            "text/plain": [
              "                                               Reply  ...  Key\n",
              "0  OP, you may want to flair this as Press Releas...  ...    1\n",
              "1   The sampling taken during week 13, included 1...  ...    1\n",
              "2  Very curious to see the random sampling result...  ...    1\n",
              "3                                          [removed]  ...    1\n",
              "4  If this is true, wouldn't that bring the death...  ...    1\n",
              "\n",
              "[5 rows x 4 columns]"
            ]
          },
          "metadata": {
            "tags": []
          },
          "execution_count": 56
        }
      ]
    },
    {
      "cell_type": "code",
      "metadata": {
        "id": "L915MCROAso1",
        "colab_type": "code",
        "colab": {
          "base_uri": "https://localhost:8080/",
          "height": 34
        },
        "outputId": "4c4b8039-b682-40e4-caea-40ae36847e3c"
      },
      "source": [
        "comments.shape"
      ],
      "execution_count": null,
      "outputs": [
        {
          "output_type": "execute_result",
          "data": {
            "text/plain": [
              "(39623, 4)"
            ]
          },
          "metadata": {
            "tags": []
          },
          "execution_count": 57
        }
      ]
    },
    {
      "cell_type": "code",
      "metadata": {
        "id": "9XslV7xGA4eH",
        "colab_type": "code",
        "colab": {}
      },
      "source": [
        "comments.to_csv('Comments_.csv', index=False)"
      ],
      "execution_count": null,
      "outputs": []
    },
    {
      "cell_type": "code",
      "metadata": {
        "id": "bzbXJSPwFXcE",
        "colab_type": "code",
        "colab": {}
      },
      "source": [
        "posts.to_csv('Posts.csv', index=False)"
      ],
      "execution_count": null,
      "outputs": []
    },
    {
      "cell_type": "code",
      "metadata": {
        "id": "ehAVPaXwFZgo",
        "colab_type": "code",
        "colab": {}
      },
      "source": [
        "!cp Comments_.csv \"drive/My Drive/\""
      ],
      "execution_count": null,
      "outputs": []
    },
    {
      "cell_type": "code",
      "metadata": {
        "id": "5PdbrSPzVfCP",
        "colab_type": "code",
        "colab": {}
      },
      "source": [
        ""
      ],
      "execution_count": null,
      "outputs": []
    }
  ]
}